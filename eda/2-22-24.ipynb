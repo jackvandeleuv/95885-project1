{
 "cells": [
  {
   "cell_type": "code",
   "execution_count": 5,
   "metadata": {},
   "outputs": [],
   "source": [
    "import pandas as pd\n",
    "import numpy as np\n",
    "import seaborn as sns\n",
    "import matplotlib.pyplot as plt\n",
    "import altair\n",
    "\n",
    "pd.set_option('display.max_columns', None)"
   ]
  },
  {
   "cell_type": "code",
   "execution_count": 6,
   "metadata": {},
   "outputs": [],
   "source": [
    "df = pd.read_csv('../data/clean_metrics_19_22.csv')"
   ]
  },
  {
   "cell_type": "code",
   "execution_count": 9,
   "metadata": {},
   "outputs": [
    {
     "data": {
      "text/html": [
       "<div>\n",
       "<style scoped>\n",
       "    .dataframe tbody tr th:only-of-type {\n",
       "        vertical-align: middle;\n",
       "    }\n",
       "\n",
       "    .dataframe tbody tr th {\n",
       "        vertical-align: top;\n",
       "    }\n",
       "\n",
       "    .dataframe thead th {\n",
       "        text-align: right;\n",
       "    }\n",
       "</style>\n",
       "<table border=\"1\" class=\"dataframe\">\n",
       "  <thead>\n",
       "    <tr style=\"text-align: right;\">\n",
       "      <th></th>\n",
       "      <th>agency</th>\n",
       "      <th>city</th>\n",
       "      <th>state</th>\n",
       "      <th>legacy_ntd_id</th>\n",
       "      <th>ntd_id</th>\n",
       "      <th>organization_type</th>\n",
       "      <th>reporter_type</th>\n",
       "      <th>primary_uza__population</th>\n",
       "      <th>agency_voms</th>\n",
       "      <th>mode</th>\n",
       "      <th>tos</th>\n",
       "      <th>mode_voms</th>\n",
       "      <th>fare_revenues_per_unlinked_passenger_trip</th>\n",
       "      <th>fare_revenues_per_total_operating_expense_(recovery_ratio)</th>\n",
       "      <th>cost_per__hour</th>\n",
       "      <th>passengers_per_hour</th>\n",
       "      <th>cost_per_passenger</th>\n",
       "      <th>cost_per_passenger_mile</th>\n",
       "      <th>fare_revenues_earned</th>\n",
       "      <th>total_operating_expenses</th>\n",
       "      <th>unlinked_passenger_trips</th>\n",
       "      <th>vehicle_revenue_hours</th>\n",
       "      <th>passenger_miles</th>\n",
       "      <th>vehicle_revenue_miles</th>\n",
       "      <th>any_data_questionable?</th>\n",
       "      <th>year</th>\n",
       "      <th>uace_code</th>\n",
       "      <th>uza_name</th>\n",
       "      <th>primary_uza_population</th>\n",
       "      <th>cost_per_hour</th>\n",
       "    </tr>\n",
       "  </thead>\n",
       "  <tbody>\n",
       "    <tr>\n",
       "      <th>1051</th>\n",
       "      <td>New Castle Area Transit Authority</td>\n",
       "      <td>New Castle</td>\n",
       "      <td>PA</td>\n",
       "      <td>3R04-005</td>\n",
       "      <td>3R04-30151</td>\n",
       "      <td>Independent Public Agency or Authority of Tran...</td>\n",
       "      <td>Rural Reporter</td>\n",
       "      <td>0.0</td>\n",
       "      <td>46.0</td>\n",
       "      <td>DR</td>\n",
       "      <td>PT</td>\n",
       "      <td>21.0</td>\n",
       "      <td>1.89</td>\n",
       "      <td>0.1</td>\n",
       "      <td>55.21</td>\n",
       "      <td>3.0</td>\n",
       "      <td>18.15</td>\n",
       "      <td>0.0</td>\n",
       "      <td>10857.0</td>\n",
       "      <td>104292.0</td>\n",
       "      <td>5746.0</td>\n",
       "      <td>1889.0</td>\n",
       "      <td>0.0</td>\n",
       "      <td>25341.0</td>\n",
       "      <td>No</td>\n",
       "      <td>2019</td>\n",
       "      <td>NaN</td>\n",
       "      <td>NaN</td>\n",
       "      <td>NaN</td>\n",
       "      <td>NaN</td>\n",
       "    </tr>\n",
       "  </tbody>\n",
       "</table>\n",
       "</div>"
      ],
      "text/plain": [
       "                                 agency        city state legacy_ntd_id  \\\n",
       "1051  New Castle Area Transit Authority  New Castle    PA      3R04-005   \n",
       "\n",
       "          ntd_id                                  organization_type  \\\n",
       "1051  3R04-30151  Independent Public Agency or Authority of Tran...   \n",
       "\n",
       "       reporter_type  primary_uza__population  agency_voms mode tos  \\\n",
       "1051  Rural Reporter                      0.0         46.0   DR  PT   \n",
       "\n",
       "      mode_voms  fare_revenues_per_unlinked_passenger_trip  \\\n",
       "1051       21.0                                       1.89   \n",
       "\n",
       "      fare_revenues_per_total_operating_expense_(recovery_ratio)  \\\n",
       "1051                                                0.1            \n",
       "\n",
       "      cost_per__hour  passengers_per_hour  cost_per_passenger  \\\n",
       "1051           55.21                  3.0               18.15   \n",
       "\n",
       "      cost_per_passenger_mile  fare_revenues_earned  total_operating_expenses  \\\n",
       "1051                      0.0               10857.0                  104292.0   \n",
       "\n",
       "      unlinked_passenger_trips  vehicle_revenue_hours  passenger_miles  \\\n",
       "1051                    5746.0                 1889.0              0.0   \n",
       "\n",
       "      vehicle_revenue_miles any_data_questionable?  year  uace_code uza_name  \\\n",
       "1051                25341.0                     No  2019        NaN      NaN   \n",
       "\n",
       "      primary_uza_population  cost_per_hour  \n",
       "1051                     NaN            NaN  "
      ]
     },
     "execution_count": 9,
     "metadata": {},
     "output_type": "execute_result"
    }
   ],
   "source": [
    "df.sample()"
   ]
  },
  {
   "cell_type": "code",
   "execution_count": 19,
   "metadata": {},
   "outputs": [
    {
     "data": {
      "text/plain": [
       "12546"
      ]
     },
     "execution_count": 19,
     "metadata": {},
     "output_type": "execute_result"
    }
   ],
   "source": [
    "df.primary_uza_population.isna().sum()"
   ]
  },
  {
   "cell_type": "code",
   "execution_count": 16,
   "metadata": {},
   "outputs": [
    {
     "data": {
      "text/plain": [
       "year\n",
       "2019    87074.250543\n",
       "2020    75907.115147\n",
       "2021    71182.378095\n",
       "2022    75589.513294\n",
       "Name: vehicle_revenue_hours, dtype: float64"
      ]
     },
     "execution_count": 16,
     "metadata": {},
     "output_type": "execute_result"
    }
   ],
   "source": [
    "df.groupby('year')['vehicle_revenue_hours'].mean()"
   ]
  },
  {
   "cell_type": "code",
   "execution_count": 12,
   "metadata": {},
   "outputs": [
    {
     "data": {
      "text/plain": [
       "year\n",
       "2019    1.163391\n",
       "2020    1.942026\n",
       "2021    2.864699\n",
       "2022    2.903009\n",
       "Name: cost_per_passenger_mile, dtype: float64"
      ]
     },
     "execution_count": 12,
     "metadata": {},
     "output_type": "execute_result"
    }
   ],
   "source": [
    "df.groupby('year')['cost_per_passenger_mile'].mean()"
   ]
  },
  {
   "cell_type": "code",
   "execution_count": 13,
   "metadata": {},
   "outputs": [
    {
     "data": {
      "text/plain": [
       "year\n",
       "2019    22.900312\n",
       "2020    33.409257\n",
       "2021    51.972589\n",
       "2022    56.284655\n",
       "Name: cost_per_passenger, dtype: float64"
      ]
     },
     "execution_count": 13,
     "metadata": {},
     "output_type": "execute_result"
    }
   ],
   "source": [
    "df.groupby('year')['cost_per_passenger'].mean()"
   ]
  },
  {
   "cell_type": "code",
   "execution_count": null,
   "metadata": {},
   "outputs": [],
   "source": []
  }
 ],
 "metadata": {
  "kernelspec": {
   "display_name": "base",
   "language": "python",
   "name": "python3"
  },
  "language_info": {
   "codemirror_mode": {
    "name": "ipython",
    "version": 3
   },
   "file_extension": ".py",
   "mimetype": "text/x-python",
   "name": "python",
   "nbconvert_exporter": "python",
   "pygments_lexer": "ipython3",
   "version": "3.11.4"
  }
 },
 "nbformat": 4,
 "nbformat_minor": 2
}
