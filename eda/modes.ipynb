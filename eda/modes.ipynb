{
 "cells": [
  {
   "cell_type": "code",
   "execution_count": null,
   "metadata": {},
   "outputs": [],
   "source": [
    "import pandas as pd\n",
    "import matplotlib.pyplot as plt\n",
    "import seaborn as sns\n",
    "\n",
    "pd.set_option('display.max_columns', None)\n",
    "pd.options.display.float_format = '{:.2f}'.format"
   ]
  },
  {
   "cell_type": "code",
   "execution_count": null,
   "metadata": {},
   "outputs": [],
   "source": [
    "conv = {\n",
    "    'HR': 'Heavy Rail',\n",
    "    'CB': 'Commuter Bus',\n",
    "    'MB': 'Bus',\n",
    "    'DR': 'Demand Response',\n",
    "    'RB': 'Bus Rapid Transit',\n",
    "    'LR': 'Light Rail',\n",
    "    'VP': 'Vanpool',\n",
    "    'YR': 'Hybrid Rail',\n",
    "    'CR': 'Commuter Rail',\n",
    "    'DT': 'Demand Response Taxi',\n",
    "    'FB': 'Ferryboat',\n",
    "    'TB': 'Trolleybus',\n",
    "    'SR': 'Streetcar Rail',\n",
    "    'PB': 'Publico',\n",
    "    'MG': 'Monorail/Automated Guideway',\n",
    "    'CC': 'Cable Car',\n",
    "    'IP': 'Inclined Plane',\n",
    "    'TR': 'Aerial Tramway',\n",
    "    'AR': 'Alaska Railroad',\n",
    "    'nan': 'nan',\n",
    "    'UZA': 'Urbanized Area',\n",
    "    'JT': 'Jitney',\n",
    "    'Q': 'Questionable',\n",
    "    'W': 'Waived'\n",
    "}\n",
    "\n",
    "\n",
    "def drop_cols(col, df):\n",
    "    df_len = len(df)\n",
    "    df = df.dropna(subset=[col])\n",
    "    print(f'Dropped {df_len - len(df)} rows for having null {col}')\n",
    "    return df"
   ]
  },
  {
   "cell_type": "code",
   "execution_count": null,
   "metadata": {},
   "outputs": [],
   "source": [
    "# Perform additional cleaning steps\n",
    "df = pd.read_csv('../data/clean_metrics_18_22.csv')\n",
    "df['mode_name'] = df['mode'].apply(lambda x: conv[x] if x in conv else x)\n",
    "df = drop_cols('city', df)\n",
    "df = drop_cols('passenger_miles', df)\n",
    "df = drop_cols('cost_per_passenger_mile', df)"
   ]
  },
  {
   "cell_type": "code",
   "execution_count": null,
   "metadata": {},
   "outputs": [],
   "source": [
    "# Check Modesto Commuter bus\n",
    "display(df[(df.city == 'Modesto') & (df.mode_name == 'Commuter Bus')] \\\n",
    "    .loc[:, ['city', 'year', 'cost_per_passenger_mile']] )\n",
    "\n",
    "# Drop Modesto Commuter bus\n",
    "df = df[(df.city != 'Modesto') | (df.mode_name != 'Commuter Bus')]"
   ]
  }
 ],
 "metadata": {
  "language_info": {
   "name": "python"
  }
 },
 "nbformat": 4,
 "nbformat_minor": 2
}
