{
 "cells": [
  {
   "cell_type": "code",
   "execution_count": 26,
   "metadata": {},
   "outputs": [],
   "source": [
    "import pandas as pd\n",
    "\n",
    "pd.set_option('display.max_columns', None)"
   ]
  },
  {
   "cell_type": "code",
   "execution_count": 27,
   "metadata": {},
   "outputs": [
    {
     "data": {
      "text/html": [
       "<div>\n",
       "<style scoped>\n",
       "    .dataframe tbody tr th:only-of-type {\n",
       "        vertical-align: middle;\n",
       "    }\n",
       "\n",
       "    .dataframe tbody tr th {\n",
       "        vertical-align: top;\n",
       "    }\n",
       "\n",
       "    .dataframe thead th {\n",
       "        text-align: right;\n",
       "    }\n",
       "</style>\n",
       "<table border=\"1\" class=\"dataframe\">\n",
       "  <thead>\n",
       "    <tr style=\"text-align: right;\">\n",
       "      <th></th>\n",
       "      <th>agency</th>\n",
       "      <th>city</th>\n",
       "      <th>state</th>\n",
       "      <th>ntd_id</th>\n",
       "      <th>organization_type</th>\n",
       "      <th>reporter_type</th>\n",
       "      <th>primary_uza_population</th>\n",
       "      <th>agency_voms</th>\n",
       "      <th>mode</th>\n",
       "      <th>tos</th>\n",
       "      <th>mode_voms</th>\n",
       "      <th>fare_revenues_per_unlinked_passenger_trip</th>\n",
       "      <th>fare_revenues_per_total_operating_expense_(recovery_ratio)</th>\n",
       "      <th>cost_per_hour</th>\n",
       "      <th>cost_per_passenger</th>\n",
       "      <th>cost_per_passenger_mile</th>\n",
       "      <th>fare_revenues_earned</th>\n",
       "      <th>total_operating_expenses</th>\n",
       "      <th>unlinked_passenger_trips</th>\n",
       "      <th>vehicle_revenue_hours</th>\n",
       "      <th>passenger_miles</th>\n",
       "      <th>vehicle_revenue_miles</th>\n",
       "      <th>year</th>\n",
       "    </tr>\n",
       "  </thead>\n",
       "  <tbody>\n",
       "    <tr>\n",
       "      <th>8777</th>\n",
       "      <td>Fairmont Marion County Transit Authority</td>\n",
       "      <td>Fairmont</td>\n",
       "      <td>WV</td>\n",
       "      <td>3R05-30149</td>\n",
       "      <td>Independent Public Agency or Authority of Tran...</td>\n",
       "      <td>Rural Reporter</td>\n",
       "      <td>0.0</td>\n",
       "      <td>23.0</td>\n",
       "      <td>MB</td>\n",
       "      <td>DO</td>\n",
       "      <td>12.0</td>\n",
       "      <td>0.66</td>\n",
       "      <td>0.07</td>\n",
       "      <td>107.31</td>\n",
       "      <td>10.11</td>\n",
       "      <td>0.0</td>\n",
       "      <td>98648.0</td>\n",
       "      <td>1508329.0</td>\n",
       "      <td>149140.0</td>\n",
       "      <td>14056.0</td>\n",
       "      <td>0.0</td>\n",
       "      <td>282978.0</td>\n",
       "      <td>2020</td>\n",
       "    </tr>\n",
       "  </tbody>\n",
       "</table>\n",
       "</div>"
      ],
      "text/plain": [
       "                                        agency      city state      ntd_id  \\\n",
       "8777  Fairmont Marion County Transit Authority  Fairmont    WV  3R05-30149   \n",
       "\n",
       "                                      organization_type   reporter_type  \\\n",
       "8777  Independent Public Agency or Authority of Tran...  Rural Reporter   \n",
       "\n",
       "      primary_uza_population  agency_voms mode tos  mode_voms  \\\n",
       "8777                     0.0         23.0   MB  DO       12.0   \n",
       "\n",
       "      fare_revenues_per_unlinked_passenger_trip  \\\n",
       "8777                                       0.66   \n",
       "\n",
       "      fare_revenues_per_total_operating_expense_(recovery_ratio)  \\\n",
       "8777                                               0.07            \n",
       "\n",
       "      cost_per_hour  cost_per_passenger  cost_per_passenger_mile  \\\n",
       "8777         107.31               10.11                      0.0   \n",
       "\n",
       "      fare_revenues_earned  total_operating_expenses  \\\n",
       "8777               98648.0                 1508329.0   \n",
       "\n",
       "      unlinked_passenger_trips  vehicle_revenue_hours  passenger_miles  \\\n",
       "8777                  149140.0                14056.0              0.0   \n",
       "\n",
       "      vehicle_revenue_miles  year  \n",
       "8777               282978.0  2020  "
      ]
     },
     "execution_count": 27,
     "metadata": {},
     "output_type": "execute_result"
    }
   ],
   "source": [
    "df = pd.read_csv('../data/clean_metrics_18_22.csv')\n",
    "df.sample(random_state=538)"
   ]
  },
  {
   "cell_type": "code",
   "execution_count": 29,
   "metadata": {},
   "outputs": [
    {
     "data": {
      "text/plain": [
       "year\n",
       "2018    5.334307e+10\n",
       "2019    5.242089e+10\n",
       "2020    2.248391e+10\n",
       "2021    1.724298e+10\n",
       "2022    2.994715e+10\n",
       "Name: passenger_miles, dtype: float64"
      ]
     },
     "execution_count": 29,
     "metadata": {},
     "output_type": "execute_result"
    }
   ],
   "source": [
    "df.groupby('year').passenger_miles.sum()"
   ]
  },
  {
   "cell_type": "code",
   "execution_count": 33,
   "metadata": {},
   "outputs": [
    {
     "data": {
      "text/plain": [
       "<Axes: xlabel='year'>"
      ]
     },
     "execution_count": 33,
     "metadata": {},
     "output_type": "execute_result"
    },
    {
     "data": {
      "image/png": "[encoded data removed]",
      "text/plain": [
       "<Figure size 640x480 with 1 Axes>"
      ]
     },
     "metadata": {},
     "output_type": "display_data"
    }
   ],
   "source": [
    "df.groupby('year').passenger_miles.sum().plot()"
   ]
  }
 ],
 "metadata": {
  "kernelspec": {
   "display_name": "base",
   "language": "python",
   "name": "python3"
  },
  "language_info": {
   "codemirror_mode": {
    "name": "ipython",
    "version": 3
   },
   "file_extension": ".py",
   "mimetype": "text/x-python",
   "name": "python",
   "nbconvert_exporter": "python",
   "pygments_lexer": "ipython3",
   "version": "3.11.5"
  }
 },
 "nbformat": 4,
 "nbformat_minor": 2
}
